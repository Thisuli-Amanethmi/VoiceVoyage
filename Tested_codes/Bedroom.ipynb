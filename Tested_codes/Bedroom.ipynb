{
  "nbformat": 4,
  "nbformat_minor": 0,
  "metadata": {
    "colab": {
      "provenance": [],
      "authorship_tag": "ABX9TyOFsMPJlnzRrqWoUozf3D+t",
      "include_colab_link": true
    },
    "kernelspec": {
      "name": "python3",
      "display_name": "Python 3"
    },
    "language_info": {
      "name": "python"
    }
  },
  "cells": [
    {
      "cell_type": "markdown",
      "metadata": {
        "id": "view-in-github",
        "colab_type": "text"
      },
      "source": [
        "<a href=\"https://colab.research.google.com/github/Thisuli-Amanethmi/VoiceVoyage/blob/Vihindi/Bedroom.ipynb\" target=\"_parent\"><img src=\"https://colab.research.google.com/assets/colab-badge.svg\" alt=\"Open In Colab\"/></a>"
      ]
    },
    {
      "cell_type": "code",
      "execution_count": null,
      "metadata": {
        "id": "z3WyMJvsDota"
      },
      "outputs": [],
      "source": [
        "import spacy\n",
        "\n",
        "# Load the spaCy English language model\n",
        "nlp = spacy.load(\"en_core_web_sm\")\n",
        "\n",
        "# Initialize variables to store user inputs\n",
        "bedroom_description = input(\"1. Please describe your bedroom (e.g., size, layout, features): \")\n",
        "number_of_beds = input(\"2. How many beds are there in your bedroom? \")\n",
        "beds_location_description = input(\"3. Can you describe where the beds are located in the bedroom? \")\n",
        "dressing_table_location_description = input(\"4. Where is the dressing table positioned in the bedroom? \")\n",
        "cupboard_location_description = input(\"5. Where is the cupboard or wardrobe located in the bedroom? \")\n",
        "number_of_tables = input(\"6. How many tables are there in your bedroom? \")\n",
        "tables_location_description = input(\"7. Can you describe where the tables are located in the bedroom? \")\n",
        "number_of_chairs = input(\"8. How many chairs are there in your bedroom? \")\n",
        "chairs_location_description = input(\"9. Can you describe where the chairs are located in the bedroom? \")\n",
        "\n",
        "# Combine all descriptions into one text\n",
        "full_description = f\"{bedroom_description} {beds_location_description} {dressing_table_location_description} {cupboard_location_description} {tables_location_description} {chairs_location_description}\"\n",
        "\n",
        "# Process the full description using spaCy\n",
        "doc = nlp(full_description)\n",
        "\n",
        "# Initialize a list to store extracted locations\n",
        "extracted_locations = []\n",
        "\n",
        "# Extract locations mentioned in the text\n",
        "for entity in doc.ents:\n",
        "    if entity.label_ == \"LOC\" or entity.label_ == \"GPE\":\n",
        "        extracted_locations.append(entity.text)\n",
        "\n",
        "# Print the extracted locations\n",
        "if extracted_locations:\n",
        "    print(\"\\nExtracted locations mentioned in the description:\")\n",
        "    for location in extracted_locations:\n",
        "        print(location)\n",
        "else:\n",
        "    print(\"\\nNo specific locations mentioned in the description.\")\n",
        "\\\\\\\\\\\\\\"
      ]
    }
  ]
}