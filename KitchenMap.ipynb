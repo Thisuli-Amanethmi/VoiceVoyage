{
  "nbformat": 4,
  "nbformat_minor": 0,
  "metadata": {
    "colab": {
      "provenance": [],
      "authorship_tag": "ABX9TyPjNC7FScATCAfhO21Kov5E",
      "include_colab_link": true
    },
    "kernelspec": {
      "name": "python3",
      "display_name": "Python 3"
    },
    "language_info": {
      "name": "python"
    }
  },
  "cells": [
    {
      "cell_type": "markdown",
      "metadata": {
        "id": "view-in-github",
        "colab_type": "text"
      },
      "source": [
        "<a href=\"https://colab.research.google.com/github/Thisuli-Amanethmi/VoiceVoyage/blob/Induvari/KitchenMap.ipynb\" target=\"_parent\"><img src=\"https://colab.research.google.com/assets/colab-badge.svg\" alt=\"Open In Colab\"/></a>"
      ]
    },
    {
      "cell_type": "code",
      "execution_count": null,
      "metadata": {
        "colab": {
          "base_uri": "https://localhost:8080/"
        },
        "id": "8zz97tlnb8iV",
        "outputId": "c907781d-e249-4f6f-a0db-8ab5348a8019"
      },
      "outputs": [
        {
          "output_type": "stream",
          "name": "stdout",
          "text": [
            "Room Name: Living Room\n",
            "Dimensions: 15 x 20\n",
            "living room: {'Type': 'sofa', 'Location': 'against the wall'}\n",
            "Number of Windows: 2\n",
            "Light Source: natural\n",
            "[TV]: {'Location': 'on the media console'}\n"
          ]
        }
      ],
      "source": [
        "import re #Regex library\n",
        "\n",
        "def extract_features(text):\n",
        "    features = {}\n",
        "\n",
        "    # Basic Information\n",
        "    # search for patterns in the text\n",
        "    room_name_match = re.search(r\"Room Name: \\[([^\\]]+)\\]\", text)\n",
        "    dimensions_match = re.search(r\"Dimensions: \\[([^\\]]+)\\]\", text)\n",
        "\n",
        "    if room_name_match:\n",
        "        features['Room Name'] = room_name_match.group(1)\n",
        "    if dimensions_match:\n",
        "        features['Dimensions'] = dimensions_match.group(1)\n",
        "\n",
        "    # Furniture and Layout\n",
        "    \"\"\"re.findall use to find all occurrences of a pattern related to furniture in the text.\n",
        "     For each match, it extracts the type and location of the furniture and stores it in the features dictionary\"\"\"\n",
        "    furniture_matches = re.findall(r\"The (.+?) is furnished with a (.+?) placed (.+?)\\.\", text)\n",
        "    for furniture_match in furniture_matches:\n",
        "        features[furniture_match[0]] = {'Type': furniture_match[1], 'Location': furniture_match[2]}\n",
        "\n",
        "    # Accessibility Features\n",
        "    windows_match = re.search(r\"The room has (\\d+) windows, providing (natural|artificial) light.\", text)\n",
        "    flooring_match = re.search(r\"The flooring is made of \\[([^\\]]+)\\].\", text)\n",
        "\n",
        "    if windows_match:\n",
        "        features['Number of Windows'] = int(windows_match.group(1))\n",
        "        features['Light Source'] = windows_match.group(2)\n",
        "    if flooring_match:\n",
        "        features['Flooring Material'] = flooring_match.group(1)\n",
        "\n",
        "    # Technology and Devices\n",
        "    devices_match = re.findall(r\"(\\[.+?\\]) is located (.+?)\\.\", text)\n",
        "    for device_match in devices_match:\n",
        "        features[device_match[0]] = {'Location': device_match[1]}\n",
        "\n",
        "    # Other Details\n",
        "    decorative_elements_match = re.search(r\"Decorative elements include \\[([^\\]]+)\\].\", text)\n",
        "    color_scheme_match = re.search(r\"The color scheme of the room is \\[([^\\]]+)\\].\", text)\n",
        "\n",
        "    if decorative_elements_match:\n",
        "        features['Decorative Elements'] = decorative_elements_match.group(1).split(', ')\n",
        "    if color_scheme_match:\n",
        "        features['Color Scheme'] = color_scheme_match.group(1).split(', ')\n",
        "\n",
        "    return features\n",
        "\n",
        "# Sample input\n",
        "sample_input = \"\"\"\n",
        "Basic Information:\n",
        "Room Name: [Living Room]\n",
        "Dimensions: [15 x 20]\n",
        "\n",
        "Furniture and Layout:\n",
        "The living room is furnished with a sofa placed against the wall.\n",
        "There is a coffee table near the window.\n",
        "A bookshelf is located in the corner.\n",
        "\n",
        "Accessibility Features:\n",
        "The room has 2 windows, providing natural light.\n",
        "The flooring is made of hardwood.\n",
        "\n",
        "Technology and Devices:\n",
        "[TV] is located on the media console.\n",
        "[Sound System] is placed in the entertainment center.\n",
        "\n",
        "Other Details:\n",
        "Decorative elements include artwork and plants.\n",
        "The color scheme of the room is blue and beige.\n",
        "\"\"\"\n",
        "\n",
        "# Extract features from the sample input\n",
        "features = extract_features(sample_input)\n",
        "\n",
        "# Print the extracted features\n",
        "for key, value in features.items():\n",
        "    print(f\"{key}: {value}\")\n"
      ]
    },
    {
      "cell_type": "code",
      "source": [
        "import networkx as nx\n",
        "import matplotlib.pyplot as plt\n",
        "\n",
        "def create_room_graph(features):\n",
        "    G = nx.Graph()\n",
        "\n",
        "    # Add nodes for furniture and devices\n",
        "    for key, value in features.items():\n",
        "        if isinstance(value, dict) and 'Type' in value:\n",
        "            G.add_node(key, type=value['Type'])\n",
        "\n",
        "    # Add edges based on spatial relationships\n",
        "    for key, value in features.items():\n",
        "        if isinstance(value, dict) and 'Location' in value:\n",
        "            location = value['Location']\n",
        "            if location in features:\n",
        "                G.add_edge(key, location)\n",
        "\n",
        "    return G\n",
        "\n",
        "# Updated sample set of features with more items\n",
        "sample_features = {\n",
        "    'Living Room': {'Type': 'Room'},\n",
        "    'Sofa': {'Type': 'Furniture', 'Location': 'Against the wall'},\n",
        "    'Coffee Table': {'Type': 'Furniture', 'Location': 'Near the window'},\n",
        "    'Bookshelf': {'Type': 'Furniture', 'Location': 'In the corner'},\n",
        "    'TV': {'Type': 'Electronic Device', 'Location': 'On the media console'},\n",
        "    'Sound System': {'Type': 'Electronic Device', 'Location': 'In the entertainment center'},\n",
        "    'Dining Table': {'Type': 'Furniture', 'Location': 'Center of the room'},\n",
        "    'Chairs': {'Type': 'Furniture', 'Location': 'Around the dining table'},\n",
        "    'Lamp': {'Type': 'Furniture', 'Location': 'Next to the sofa'},\n",
        "    'Computer Desk': {'Type': 'Furniture', 'Location': 'Against another wall'},\n",
        "}\n",
        "\n",
        "# Recreate the room graph with the updated sample features\n",
        "room_graph = create_room_graph(sample_features)\n",
        "\n",
        "# Draw and display the updated graph\n",
        "pos = nx.spring_layout(room_graph)\n",
        "nx.draw(room_graph, pos, with_labels=True, font_weight='bold', node_size=700, node_color='lightblue', font_size=8, font_color='black', edge_color='gray')\n",
        "plt.show()\n",
        "\n"
      ],
      "metadata": {
        "colab": {
          "base_uri": "https://localhost:8080/",
          "height": 516
        },
        "id": "TRfS4FHXcIKT",
        "outputId": "b9cf30fb-e706-45d9-f880-762712d634a8"
      },
      "execution_count": null,
      "outputs": [
        {
          "output_type": "display_data",
          "data": {
            "text/plain": [
              "<Figure size 640x480 with 1 Axes>"
            ],
            "image/png": "[encoded data removed]"
          },
          "metadata": {}
        }
      ]
    },
    {
      "cell_type": "code",
      "source": [
        "import networkx as nx\n",
        "import matplotlib.pyplot as plt\n",
        "\n",
        "def create_room_graph(features):\n",
        "    G = nx.Graph()\n",
        "\n",
        "    # Add nodes for furniture and devices\n",
        "    for key, value in features.items():\n",
        "        if isinstance(value, dict) and 'Type' in value:\n",
        "            G.add_node(key, type=value['Type'])\n",
        "\n",
        "    # Assume connections based on furniture proximity\n",
        "    for key1, value1 in features.items():\n",
        "        if isinstance(value1, dict) and 'Location' in value1:\n",
        "            for key2, value2 in features.items():\n",
        "                if key1 != key2 and isinstance(value2, dict) and 'Location' in value2:\n",
        "                    # Connect furniture items located near each other\n",
        "                    if value1['Location'] == value2['Location']:\n",
        "                        G.add_edge(key1, key2)\n",
        "\n",
        "    return G\n",
        "\n",
        "# Updated sample input with Coffee Table in the middle\n",
        "sample_features = {\n",
        "    'Living Room': {'Type': 'Room'},\n",
        "    'Sofa': {'Type': 'Furniture', 'Location': 'Against the wall'},\n",
        "    'Coffee Table': {'Type': 'Furniture', 'Location': 'In the middle'},\n",
        "    'Bookshelf': {'Type': 'Furniture', 'Location': 'In the corner'},\n",
        "    'TV': {'Type': 'Electronic Device', 'Location': 'On the media console'},\n",
        "    'Sound System': {'Type': 'Electronic Device', 'Location': 'In the entertainment center'},\n",
        "}\n",
        "\n",
        "# Create the room graph with connections based on proximity\n",
        "room_graph = create_room_graph(sample_features)\n",
        "\n",
        "# Set the position based on the specified location\n",
        "pos = {}\n",
        "for key, value in sample_features.items():\n",
        "    if isinstance(value, dict) and 'Location' in value:\n",
        "        location = value['Location']\n",
        "        if location == 'In the middle':\n",
        "            pos[key] = (0, 0)\n",
        "        elif location == 'Against the wall':\n",
        "            pos[key] = (-1, 1)\n",
        "        elif location == 'In the corner':\n",
        "            pos[key] = (1, 1)\n",
        "        elif location == 'On the media console':\n",
        "            pos[key] = (-1, -1)\n",
        "        elif location == 'In the entertainment center':\n",
        "            pos[key] = (1, -1)\n",
        "\n",
        "# Add a default position for the 'Living Room'\n",
        "pos.setdefault('Living Room', (0, 0))\n",
        "\n",
        "# Draw the graph with red edges, larger node size, and increased figure size\n",
        "nx.draw(room_graph, pos, with_labels=True, font_weight='bold', node_size=1200, node_color='lightblue', font_size=8, font_color='black', edge_color='red', width=2)\n",
        "\n",
        "# Display the graph\n",
        "plt.show()\n"
      ],
      "metadata": {
        "colab": {
          "base_uri": "https://localhost:8080/",
          "height": 516
        },
        "id": "cy7ryzu7cNWl",
        "outputId": "67e55cda-4784-4fa7-e26c-07daba272c11"
      },
      "execution_count": null,
      "outputs": [
        {
          "output_type": "display_data",
          "data": {
            "text/plain": [
              "<Figure size 640x480 with 1 Axes>"
            ],
            "image/png": "[encoded data removed]"
          },
          "metadata": {}
        }
      ]
    },
    {
      "cell_type": "code",
      "source": [
        "import spacy\n",
        "import matplotlib.pyplot as plt\n",
        "\n",
        "# Load spaCy English model\n",
        "nlp = spacy.load(\"en_core_web_sm\")\n",
        "\n",
        "def extract_objects_and_positions(text):\n",
        "    doc = nlp(text)\n",
        "\n",
        "    objects_and_positions = {}\n",
        "    for token in doc:\n",
        "        if token.dep_ == \"prep\":\n",
        "            # Extract objects and their positions\n",
        "            objects_and_positions[token.text] = {\n",
        "                \"object\": token.head.text,\n",
        "                \"position\": token.text\n",
        "            }\n",
        "\n",
        "    return objects_and_positions\n",
        "\n",
        "def generate_room_map(objects_and_positions):\n",
        "    # Initialize room layout\n",
        "    room_layout = {\n",
        "        \"door\": (0, 0),\n",
        "        \"table\": (0, 0),\n",
        "        \"chair\": (0, 0),\n",
        "        \"bed\": (0, 0)\n",
        "    }\n",
        "\n",
        "    # Update positions based on the extracted information\n",
        "    for prep, info in objects_and_positions.items():\n",
        "        object_name = info[\"object\"].lower()\n",
        "        position = info[\"position\"].lower()\n",
        "\n",
        "        if position == \"right\":\n",
        "            room_layout[object_name] = (room_layout[object_name][0] + 1, room_layout[object_name][1])\n",
        "        elif position == \"left\":\n",
        "            room_layout[object_name] = (room_layout[object_name][0] - 1, room_layout[object_name][1])\n",
        "\n",
        "    # Plotting the room map\n",
        "    for object_name, position in room_layout.items():\n",
        "        plt.scatter(position[0], position[1], label=object_name, s=100)\n",
        "\n",
        "    plt.title(\"Room Map\")\n",
        "    plt.xlabel(\"X-axis\")\n",
        "    plt.ylabel(\"Y-axis\")\n",
        "    plt.legend()\n",
        "    plt.grid(True)\n",
        "    plt.show()\n",
        "\n",
        "# Example description\n",
        "room_description = \"There is a table to the right of the door. There is a chair to the left of the table.\"\n",
        "\n",
        "# Extract objects and positions\n",
        "objects_and_positions = extract_objects_and_positions(room_description)\n",
        "\n",
        "# Generate and display the room map\n",
        "generate_room_map(objects_and_positions)\n"
      ],
      "metadata": {
        "colab": {
          "base_uri": "https://localhost:8080/",
          "height": 472
        },
        "id": "zcuxeFxZ4kBU",
        "outputId": "4edda9ca-e834-4915-c966-49e3a1b91e5d"
      },
      "execution_count": null,
      "outputs": [
        {
          "output_type": "display_data",
          "data": {
            "text/plain": [
              "<Figure size 640x480 with 1 Axes>"
            ],
            "image/png": "[encoded data removed]"
          },
          "metadata": {}
        }
      ]
    },
    {
      "cell_type": "code",
      "source": [
        "import re\n",
        "import networkx as nx\n",
        "import matplotlib.pyplot as plt\n",
        "\n",
        "def extract_kitchen_features(text):\n",
        "    kitchen_features = {}\n",
        "\n",
        "    # Basic Information\n",
        "    room_name_match = re.search(r\"Room Name: \\[([^\\]]+)\\]\", text)\n",
        "    dimensions_match = re.search(r\"Dimensions: \\[([^\\]]+)\\]\", text)\n",
        "\n",
        "    if room_name_match:\n",
        "        kitchen_features['Room Name'] = room_name_match.group(1)\n",
        "    if dimensions_match:\n",
        "        kitchen_features['Dimensions'] = dimensions_match.group(1)\n",
        "\n",
        "    # Furniture and Layout\n",
        "    furniture_matches = re.findall(r\"The (.+?) is furnished with a (.+?) placed (.+?)\\.\", text)\n",
        "    for furniture_match in furniture_matches:\n",
        "        kitchen_features[furniture_match[0]] = {'Type': furniture_match[1], 'Location': furniture_match[2]}\n",
        "\n",
        "    # Accessibility Features\n",
        "    windows_match = re.search(r\"The room has (\\d+) windows, providing (natural|artificial) light.\", text)\n",
        "    flooring_match = re.search(r\"The flooring is made of \\[([^\\]]+)\\].\", text)\n",
        "\n",
        "    if windows_match:\n",
        "        kitchen_features['Number of Windows'] = int(windows_match.group(1))\n",
        "        kitchen_features['Light Source'] = windows_match.group(2)\n",
        "    if flooring_match:\n",
        "        kitchen_features['Flooring Material'] = flooring_match.group(1)\n",
        "\n",
        "    # Technology and Devices\n",
        "    devices_match = re.findall(r\"(\\[.+?\\]) is located (.+?)\\.\", text)\n",
        "    for device_match in devices_match:\n",
        "        kitchen_features[device_match[0]] = {'Location': device_match[1]}\n",
        "\n",
        "    # Other Details\n",
        "    decorative_elements_match = re.search(r\"Decorative elements include \\[([^\\]]+)\\].\", text)\n",
        "    color_scheme_match = re.search(r\"The color scheme of the room is \\[([^\\]]+)\\].\", text)\n",
        "\n",
        "    if decorative_elements_match:\n",
        "        kitchen_features['Decorative Elements'] = decorative_elements_match.group(1).split(', ')\n",
        "    if color_scheme_match:\n",
        "        kitchen_features['Color Scheme'] = color_scheme_match.group(1).split(', ')\n",
        "\n",
        "    return kitchen_features\n",
        "\n",
        "# Sample input for the kitchen\n",
        "kitchen_sample_input = \"\"\"\n",
        "Basic Information:\n",
        "Room Name: [Kitchen]\n",
        "Dimensions: [12 x 15]\n",
        "\n",
        "Furniture and Layout:\n",
        "The kitchen is furnished with a stove placed against the wall.\n",
        "There is a refrigerator near the entrance.\n",
        "A table is located in the center.\n",
        "\n",
        "Accessibility Features:\n",
        "The room has 1 window, providing natural light.\n",
        "The flooring is made of tiles.\n",
        "\n",
        "Technology and Devices:\n",
        "[Smart Oven] is located on the kitchen counter.\n",
        "[Refrigerator] is placed near the entrance.\n",
        "\n",
        "Other Details:\n",
        "Decorative elements include a fruit bowl and kitchen plants.\n",
        "The color scheme of the room is white and stainless steel.\n",
        "\"\"\"\n",
        "\n",
        "# Extract features from the kitchen sample input\n",
        "kitchen_features = extract_kitchen_features(kitchen_sample_input)\n",
        "\n",
        "# Print the extracted features for the kitchen\n",
        "for key, value in kitchen_features.items():\n",
        "    print(f\"{key}: {value}\")\n",
        "\n",
        "def create_kitchen_graph(kitchen_features):\n",
        "    G = nx.Graph()\n",
        "\n",
        "    # Add nodes for furniture and devices\n",
        "    for key, value in kitchen_features.items():\n",
        "        if isinstance(value, dict) and 'Type' in value:\n",
        "            G.add_node(key, type=value['Type'])\n",
        "\n",
        "    # Add edges based on spatial relationships\n",
        "    for key, value in kitchen_features.items():\n",
        "        if isinstance(value, dict) and 'Location' in value:\n",
        "            location = value['Location']\n",
        "            if location in kitchen_features:\n",
        "                G.add_edge(key, location)\n",
        "\n",
        "    return G\n",
        "\n",
        "# Recreate the kitchen graph with the updated sample features\n",
        "kitchen_graph = create_kitchen_graph(kitchen_features)\n",
        "\n",
        "# Draw and display the updated kitchen graph\n",
        "pos = nx.spring_layout(kitchen_graph)\n",
        "nx.draw(kitchen_graph, pos, with_labels=True, font_weight='bold', node_size=700, node_color='lightgreen', font_size=8, font_color='black', edge_color='gray')\n",
        "plt.show()\n"
      ],
      "metadata": {
        "id": "yxkV2oV3m-ZF",
        "outputId": "caab9d70-32ab-4c0e-9f04-7cfb14b3fefc",
        "colab": {
          "base_uri": "https://localhost:8080/",
          "height": 585
        }
      },
      "execution_count": null,
      "outputs": [
        {
          "output_type": "stream",
          "name": "stdout",
          "text": [
            "Room Name: Kitchen\n",
            "Dimensions: 12 x 15\n",
            "kitchen: {'Type': 'stove', 'Location': 'against the wall'}\n",
            "[Smart Oven]: {'Location': 'on the kitchen counter'}\n"
          ]
        },
        {
          "output_type": "display_data",
          "data": {
            "text/plain": [
              "<Figure size 640x480 with 1 Axes>"
            ],
            "image/png": "[encoded data removed]"
          },
          "metadata": {}
        }
      ]
    },
    {
      "cell_type": "code",
      "source": [
        "import spacy\n",
        "\n",
        "# Load the spaCy English language model\n",
        "nlp = spacy.load(\"en_core_web_sm\")\n",
        "\n",
        "# Initialize variables to store user inputs\n",
        "kitchen_description = input(\"1. Please describe your kitchen (e.g., size, layout, features): \")\n",
        "stove_location_description = input(\"2. Where is the stove positioned in the kitchen? \")\n",
        "fridge_location_description = input(\"3. Can you describe where the fridge is located in the kitchen? \")\n",
        "sink_location_description = input(\"4. Where is the sink positioned in the kitchen? \")\n",
        "number_of_counters = input(\"5. How many counters are there in your kitchen? \")\n",
        "counters_location_description = input(\"6. Can you describe where the counters are located in the kitchen? \")\n",
        "number_of_chairs = input(\"7. How many chairs or stools are there in your kitchen? \")\n",
        "chairs_location_description = input(\"8. Can you describe where the chairs or stools are located in the kitchen? \")\n",
        "\n",
        "# Combine all descriptions into one text\n",
        "full_description = f\"{kitchen_description} {stove_location_description} {fridge_location_description} {sink_location_description} {counters_location_description} {chairs_location_description}\"\n",
        "\n",
        "# Process the full description using spaCy\n",
        "doc = nlp(full_description)\n",
        "\n",
        "# Initialize a list to store extracted locations\n",
        "extracted_locations = []\n",
        "\n",
        "# Extract locations mentioned in the text\n",
        "for entity in doc.ents:\n",
        "    if entity.label_ == \"LOC\" or entity.label_ == \"GPE\":\n",
        "        extracted_locations.append(entity.text)\n",
        "\n",
        "# Print the extracted locations\n",
        "if extracted_locations:\n",
        "    print(\"\\nExtracted locations mentioned in the description:\")\n",
        "    for location in extracted_locations:\n",
        "        print(location)\n",
        "else:\n",
        "    print(\"\\nNo specific locations mentioned in the description.\")\n"
      ],
      "metadata": {
        "colab": {
          "base_uri": "https://localhost:8080/"
        },
        "id": "F5hA5Gq1tISD",
        "outputId": "adf10f40-f85f-45b5-b619-ac88f6446c19"
      },
      "execution_count": 2,
      "outputs": [
        {
          "output_type": "stream",
          "name": "stdout",
          "text": [
            "1. Please describe your kitchen (e.g., size, layout, features):  10 x 10\n",
            "2. Where is the stove positioned in the kitchen? middle\n",
            "3. Can you describe where the fridge is located in the kitchen? right corner\n",
            "4. Where is the sink positioned in the kitchen? left corner\n",
            "5. How many counters are there in your kitchen? 2\n",
            "6. Can you describe where the counters are located in the kitchen? next to the door\n",
            "7. How many chairs or stools are there in your kitchen? 4\n",
            "8. Can you describe where the chairs or stools are located in the kitchen? near the counter\n",
            "\n",
            "No specific locations mentioned in the description.\n"
          ]
        }
      ]
    },
    {
      "cell_type": "code",
      "source": [
        "import networkx as nx\n",
        "import matplotlib.pyplot as plt\n",
        "\n",
        "def create_kitchen_graph(kitchen_features):\n",
        "    G = nx.Graph()\n",
        "\n",
        "    # Add nodes for furniture and devices\n",
        "    for key, value in kitchen_features.items():\n",
        "        if isinstance(value, dict) and 'Type' in value:\n",
        "            G.add_node(key, type=value['Type'])\n",
        "\n",
        "    # Assume connections based on furniture proximity\n",
        "    for key1, value1 in kitchen_features.items():\n",
        "        if isinstance(value1, dict) and 'Location' in value1:\n",
        "            for key2, value2 in kitchen_features.items():\n",
        "                if key1 != key2 and isinstance(value2, dict) and 'Location' in value2:\n",
        "                    # Connect furniture items located near each other\n",
        "                    if value1['Location'] == value2['Location']:\n",
        "                        G.add_edge(key1, key2)\n",
        "\n",
        "    return G\n",
        "\n",
        "# Updated sample input for the kitchen with Table in the center\n",
        "kitchen_sample_features = {\n",
        "    'Kitchen': {'Type': 'Room'},\n",
        "    'Stove': {'Type': 'Furniture', 'Location': 'Against the wall'},\n",
        "    'Refrigerator': {'Type': 'Furniture', 'Location': 'Near the entrance'},\n",
        "    'Table': {'Type': 'Furniture', 'Location': 'In the center'},\n",
        "    'Smart Oven': {'Type': 'Electronic Device', 'Location': 'On the kitchen counter'},\n",
        "}\n",
        "\n",
        "# Create the kitchen graph with connections based on proximity\n",
        "kitchen_graph = create_kitchen_graph(kitchen_sample_features)\n",
        "\n",
        "# Set the position based on the specified location\n",
        "pos = {}\n",
        "for key, value in kitchen_sample_features.items():\n",
        "    if isinstance(value, dict) and 'Location' in value:\n",
        "        location = value['Location']\n",
        "        if location == 'Against the wall':\n",
        "            pos[key] = (-1, 1)\n",
        "        elif location == 'Near the entrance':\n",
        "            pos[key] = (0, 0)\n",
        "        elif location == 'In the center':\n",
        "            pos[key] = (1, -1)\n",
        "        elif location == 'On the kitchen counter':\n",
        "            pos[key] = (1, 1)\n",
        "\n",
        "# Add a default position for the 'Kitchen'\n",
        "pos.setdefault('Kitchen', (0, 0))\n",
        "\n",
        "# Draw the graph with red edges, larger node size, and increased figure size\n",
        "nx.draw(kitchen_graph, pos, with_labels=True, font_weight='bold', node_size=1200, node_color='lightgreen', font_size=8, font_color='black', edge_color='red', width=2)\n",
        "\n",
        "# Display the graph\n",
        "plt.show()\n"
      ],
      "metadata": {
        "colab": {
          "base_uri": "https://localhost:8080/",
          "height": 516
        },
        "id": "vp0QrK_StohB",
        "outputId": "5b46574f-4844-4304-8166-dc3c06d0cebc"
      },
      "execution_count": 3,
      "outputs": [
        {
          "output_type": "display_data",
          "data": {
            "text/plain": [
              "<Figure size 640x480 with 1 Axes>"
            ],
            "image/png": "[encoded data removed]"
          },
          "metadata": {}
        }
      ]
    }
  ]
}