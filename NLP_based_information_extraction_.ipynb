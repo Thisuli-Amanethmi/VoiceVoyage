{
  "nbformat": 4,
  "nbformat_minor": 0,
  "metadata": {
    "colab": {
      "provenance": [],
      "authorship_tag": "ABX9TyPqozqcn759ei3B7vuAX8Jm",
      "include_colab_link": true
    },
    "kernelspec": {
      "name": "python3",
      "display_name": "Python 3"
    },
    "language_info": {
      "name": "python"
    }
  },
  "cells": [
    {
      "cell_type": "markdown",
      "metadata": {
        "id": "view-in-github",
        "colab_type": "text"
      },
      "source": [
        "<a href=\"https://colab.research.google.com/github/Thisuli-Amanethmi/VoiceVoyage/blob/Vihindi/NLP_based_information_extraction_.ipynb\" target=\"_parent\"><img src=\"https://colab.research.google.com/assets/colab-badge.svg\" alt=\"Open In Colab\"/></a>"
      ]
    },
    {
      "cell_type": "code",
      "execution_count": null,
      "metadata": {
        "id": "Hk_3xQdViQI0"
      },
      "outputs": [],
      "source": [
        "# Initialize variables to store user inputs\n",
        "dining_area_description = input(\"1. Please describe your dining area: \")\n",
        "number_of_chairs = input(\"2. How many chairs do you have around your dining table? \")\n",
        "chairs_arrangement_description = input(\"3. Can you describe the layout of your dining table and the chairs' arrangement? \")\n",
        "unique_features_description = input(\"4. Are there any unique or distinctive features around the dining table and chairs that could help identify their location? \")\n",
        "other_objects_description = input(\"5. If possible, please provide a brief description of any other nearby objects or furniture items in the dining area that may help with context: \")\n",
        "\n",
        "# Combine all descriptions into one text\n",
        "full_description = f\"In my dining area, it is {dining_area_description}. The overall layout of the dining area is {chairs_arrangement_description}. The dining table is positioned {unique_features_description}. There are {number_of_chairs} around the table, and they are {chairs_arrangement_description}. Additionally, there is {unique_features_description}. In the vicinity, there is also {other_objects_description}.\"\n",
        "\n",
        "# Manually search for location-related keywords in the text\n",
        "location_keywords = [\"room\", \"wall\", \"center\", \"steps\", \"window\", \"enter\", \"dining room\"]\n",
        "\n",
        "# Initialize a list to store extracted locations\n",
        "extracted_locations = []\n",
        "\n",
        "# Extract locations mentioned in the text\n",
        "for keyword in location_keywords:\n",
        "    if keyword in full_description:\n",
        "        extracted_locations.append(keyword)\n",
        "\n",
        "# Print the extracted locations\n",
        "if extracted_locations:\n",
        "    print(\"Extracted locations mentioned in the description:\")\n",
        "    for location in extracted_locations:\n",
        "        print(location)\n",
        "else:\n",
        "    print(\"No specific locations mentioned in the description.\")\n"
      ]
    },
    {
      "cell_type": "code",
      "source": [
        "print(extracted_locations)"
      ],
      "metadata": {
        "colab": {
          "base_uri": "https://localhost:8080/"
        },
        "id": "8ZYqif83xPID",
        "outputId": "5355d27d-9622-4ef3-b1d7-876a9e3966d6"
      },
      "execution_count": 3,
      "outputs": [
        {
          "output_type": "stream",
          "name": "stdout",
          "text": [
            "[]\n"
          ]
        }
      ]
    }
  ]
}